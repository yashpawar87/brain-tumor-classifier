{
  "cells": [
    {
      "cell_type": "code",
      "execution_count": 1,
      "id": "c92a4ad9",
      "metadata": {
        "_cell_guid": "b1076dfc-b9ad-4769-8c92-a6c4dae69d19",
        "_uuid": "8f2839f25d086af736a60e9eeb907d3b93b6e0e5",
        "collapsed": true,
        "execution": {
          "iopub.execute_input": "2025-09-04T23:46:59.970975Z",
          "iopub.status.busy": "2025-09-04T23:46:59.970441Z",
          "iopub.status.idle": "2025-09-04T23:47:11.060108Z",
          "shell.execute_reply": "2025-09-04T23:47:11.059503Z"
        },
        "jupyter": {
          "outputs_hidden": true
        },
        "papermill": {
          "duration": 11.105297,
          "end_time": "2025-09-04T23:47:11.061421",
          "exception": false,
          "start_time": "2025-09-04T23:46:59.956124",
          "status": "completed"
        },
        "tags": [],
        "id": "c92a4ad9"
      },
      "outputs": [],
      "source": [
        "import os\n",
        "\n",
        "all_files = []\n",
        "for dirname, _, filenames in os.walk('/kaggle/input'):\n",
        "    for filename in filenames:\n",
        "        all_files.append(os.path.join(dirname, filename))"
      ]
    },
    {
      "cell_type": "markdown",
      "id": "48033b81",
      "metadata": {
        "papermill": {
          "duration": 0.00622,
          "end_time": "2025-09-04T23:47:11.074874",
          "exception": false,
          "start_time": "2025-09-04T23:47:11.068654",
          "status": "completed"
        },
        "tags": [],
        "id": "48033b81"
      },
      "source": [
        "# 1. Data Preparation"
      ]
    },
    {
      "cell_type": "markdown",
      "id": "939db970",
      "metadata": {
        "execution": {
          "iopub.execute_input": "2025-09-04T21:45:36.946054Z",
          "iopub.status.busy": "2025-09-04T21:45:36.945758Z",
          "iopub.status.idle": "2025-09-04T21:45:36.949431Z",
          "shell.execute_reply": "2025-09-04T21:45:36.948707Z",
          "shell.execute_reply.started": "2025-09-04T21:45:36.946033Z"
        },
        "papermill": {
          "duration": 0.006857,
          "end_time": "2025-09-04T23:47:11.088013",
          "exception": false,
          "start_time": "2025-09-04T23:47:11.081156",
          "status": "completed"
        },
        "tags": [],
        "id": "939db970"
      },
      "source": [
        "## Import libraries"
      ]
    },
    {
      "cell_type": "code",
      "execution_count": 2,
      "id": "d8eb37f1",
      "metadata": {
        "execution": {
          "iopub.execute_input": "2025-09-04T23:47:11.101511Z",
          "iopub.status.busy": "2025-09-04T23:47:11.101292Z",
          "iopub.status.idle": "2025-09-04T23:47:19.297013Z",
          "shell.execute_reply": "2025-09-04T23:47:19.296371Z"
        },
        "papermill": {
          "duration": 8.204138,
          "end_time": "2025-09-04T23:47:19.298390",
          "exception": false,
          "start_time": "2025-09-04T23:47:11.094252",
          "status": "completed"
        },
        "tags": [],
        "id": "d8eb37f1"
      },
      "outputs": [],
      "source": [
        "import pandas as pd\n",
        "import numpy as np\n",
        "import matplotlib.pyplot as plt\n",
        "from sklearn.model_selection import train_test_split\n",
        "import torch\n",
        "from torch.utils.data import Dataset, DataLoader\n",
        "import torch.nn as nn\n",
        "import torch.optim as optim\n",
        "from PIL import Image\n",
        "import cv2"
      ]
    },
    {
      "cell_type": "code",
      "execution_count": 3,
      "id": "1f170343",
      "metadata": {
        "execution": {
          "iopub.execute_input": "2025-09-04T23:47:19.312687Z",
          "iopub.status.busy": "2025-09-04T23:47:19.312308Z",
          "iopub.status.idle": "2025-09-04T23:47:19.368070Z",
          "shell.execute_reply": "2025-09-04T23:47:19.367218Z"
        },
        "papermill": {
          "duration": 0.064123,
          "end_time": "2025-09-04T23:47:19.369307",
          "exception": false,
          "start_time": "2025-09-04T23:47:19.305184",
          "status": "completed"
        },
        "tags": [],
        "id": "1f170343",
        "outputId": "7bf0fc87-6900-47cd-d12d-5c918e6c873a",
        "colab": {
          "base_uri": "https://localhost:8080/"
        }
      },
      "outputs": [
        {
          "output_type": "stream",
          "name": "stdout",
          "text": [
            "Using device: cuda\n"
          ]
        }
      ],
      "source": [
        "device = torch.device('cuda' if torch.cuda.is_available() else 'cpu')\n",
        "print(f\"Using device: {device}\")"
      ]
    },
    {
      "cell_type": "markdown",
      "id": "faa834ff",
      "metadata": {
        "execution": {
          "iopub.execute_input": "2025-09-04T21:51:13.680792Z",
          "iopub.status.busy": "2025-09-04T21:51:13.680443Z",
          "iopub.status.idle": "2025-09-04T21:51:13.685425Z",
          "shell.execute_reply": "2025-09-04T21:51:13.684552Z",
          "shell.execute_reply.started": "2025-09-04T21:51:13.680769Z"
        },
        "papermill": {
          "duration": 0.006409,
          "end_time": "2025-09-04T23:47:19.382555",
          "exception": false,
          "start_time": "2025-09-04T23:47:19.376146",
          "status": "completed"
        },
        "tags": [],
        "id": "faa834ff"
      },
      "source": [
        "## Data Loading and DataFrame Creation"
      ]
    },
    {
      "cell_type": "code",
      "execution_count": 4,
      "id": "18ae9293",
      "metadata": {
        "execution": {
          "iopub.execute_input": "2025-09-04T23:47:19.396517Z",
          "iopub.status.busy": "2025-09-04T23:47:19.396269Z",
          "iopub.status.idle": "2025-09-04T23:47:19.402592Z",
          "shell.execute_reply": "2025-09-04T23:47:19.401976Z"
        },
        "papermill": {
          "duration": 0.014484,
          "end_time": "2025-09-04T23:47:19.403674",
          "exception": false,
          "start_time": "2025-09-04T23:47:19.389190",
          "status": "completed"
        },
        "tags": [],
        "id": "18ae9293",
        "outputId": "1cedfdb6-a7bd-45dd-c7e7-9ed09fa0dda6",
        "colab": {
          "base_uri": "https://localhost:8080/",
          "height": 216
        }
      },
      "outputs": [
        {
          "output_type": "error",
          "ename": "FileNotFoundError",
          "evalue": "[Errno 2] No such file or directory: '/kaggle/input/brain-tumor-mri-dataset/Training'",
          "traceback": [
            "\u001b[0;31m---------------------------------------------------------------------------\u001b[0m",
            "\u001b[0;31mFileNotFoundError\u001b[0m                         Traceback (most recent call last)",
            "\u001b[0;32m/tmp/ipython-input-2736430984.py\u001b[0m in \u001b[0;36m<cell line: 0>\u001b[0;34m()\u001b[0m\n\u001b[1;32m      4\u001b[0m \u001b[0mbatch_size\u001b[0m \u001b[0;34m=\u001b[0m \u001b[0;36m32\u001b[0m\u001b[0;34m\u001b[0m\u001b[0;34m\u001b[0m\u001b[0m\n\u001b[1;32m      5\u001b[0m \u001b[0mnum_classes\u001b[0m \u001b[0;34m=\u001b[0m \u001b[0;36m4\u001b[0m\u001b[0;34m\u001b[0m\u001b[0;34m\u001b[0m\u001b[0m\n\u001b[0;32m----> 6\u001b[0;31m \u001b[0mcategories\u001b[0m \u001b[0;34m=\u001b[0m \u001b[0mos\u001b[0m\u001b[0;34m.\u001b[0m\u001b[0mlistdir\u001b[0m\u001b[0;34m(\u001b[0m\u001b[0mbase_directory\u001b[0m\u001b[0;34m+\u001b[0m\u001b[0;34m'/'\u001b[0m\u001b[0;34m+\u001b[0m\u001b[0mtrain\u001b[0m\u001b[0;34m)\u001b[0m\u001b[0;34m\u001b[0m\u001b[0;34m\u001b[0m\u001b[0m\n\u001b[0m\u001b[1;32m      7\u001b[0m \u001b[0mprint\u001b[0m\u001b[0;34m(\u001b[0m\u001b[0mcategories\u001b[0m\u001b[0;34m)\u001b[0m\u001b[0;34m\u001b[0m\u001b[0;34m\u001b[0m\u001b[0m\n\u001b[1;32m      8\u001b[0m label_map = {\n",
            "\u001b[0;31mFileNotFoundError\u001b[0m: [Errno 2] No such file or directory: '/kaggle/input/brain-tumor-mri-dataset/Training'"
          ]
        }
      ],
      "source": [
        "base_directory = '/kaggle/input/brain-tumor-mri-dataset'\n",
        "train, test = 'Training', 'Testing'\n",
        "target_size = (224, 224)\n",
        "batch_size = 32\n",
        "num_classes = 4\n",
        "categories = os.listdir(base_directory+'/'+train)\n",
        "print(categories)\n",
        "label_map = {\n",
        "    'notumor': 0,\n",
        "    'glioma': 1,\n",
        "    'meningioma': 2,\n",
        "    'pituitary': 3\n",
        "}"
      ]
    },
    {
      "cell_type": "code",
      "execution_count": null,
      "id": "c96f325a",
      "metadata": {
        "execution": {
          "iopub.execute_input": "2025-09-04T23:47:19.417555Z",
          "iopub.status.busy": "2025-09-04T23:47:19.417335Z",
          "iopub.status.idle": "2025-09-04T23:47:25.555024Z",
          "shell.execute_reply": "2025-09-04T23:47:25.554403Z"
        },
        "papermill": {
          "duration": 6.146168,
          "end_time": "2025-09-04T23:47:25.556384",
          "exception": false,
          "start_time": "2025-09-04T23:47:19.410216",
          "status": "completed"
        },
        "tags": [],
        "id": "c96f325a"
      },
      "outputs": [],
      "source": [
        "from torchvision.transforms import transforms\n",
        "custom_transform = transforms.Compose([\n",
        "    transforms.Resize(target_size),\n",
        "    transforms.ToTensor(),\n",
        "    transforms.Normalize(mean=[0.485, 0.456, 0.406],\n",
        "                         std=[0.229, 0.224, 0.225])\n",
        "])"
      ]
    },
    {
      "cell_type": "code",
      "execution_count": null,
      "id": "cbe9efd1",
      "metadata": {
        "execution": {
          "iopub.execute_input": "2025-09-04T23:47:25.571173Z",
          "iopub.status.busy": "2025-09-04T23:47:25.570783Z",
          "iopub.status.idle": "2025-09-04T23:47:25.575697Z",
          "shell.execute_reply": "2025-09-04T23:47:25.574942Z"
        },
        "papermill": {
          "duration": 0.013416,
          "end_time": "2025-09-04T23:47:25.576867",
          "exception": false,
          "start_time": "2025-09-04T23:47:25.563451",
          "status": "completed"
        },
        "tags": [],
        "id": "cbe9efd1"
      },
      "outputs": [],
      "source": [
        "def create_dataset(path):\n",
        "    my_list = []\n",
        "    for category in categories:\n",
        "        category_path = os.path.join(path, category)\n",
        "        for file_name in os.listdir(category_path):\n",
        "            file_path = os.path.join(category_path, file_name)\n",
        "            if os.path.isfile(file_path) and file_name.lower().endswith(('.png', '.jpg', '.jpeg')):\n",
        "                my_list.append([file_path, category])\n",
        "    return pd.DataFrame(my_list, columns=['file_path', 'label'])"
      ]
    },
    {
      "cell_type": "code",
      "execution_count": null,
      "id": "91231745",
      "metadata": {
        "execution": {
          "iopub.execute_input": "2025-09-04T23:47:25.591305Z",
          "iopub.status.busy": "2025-09-04T23:47:25.590787Z",
          "iopub.status.idle": "2025-09-04T23:47:29.515385Z",
          "shell.execute_reply": "2025-09-04T23:47:29.514813Z"
        },
        "papermill": {
          "duration": 3.933058,
          "end_time": "2025-09-04T23:47:29.516802",
          "exception": false,
          "start_time": "2025-09-04T23:47:25.583744",
          "status": "completed"
        },
        "tags": [],
        "id": "91231745"
      },
      "outputs": [],
      "source": [
        "train_df = create_dataset(base_directory+'/'+train)\n",
        "test_df = create_dataset(base_directory+'/'+test)"
      ]
    },
    {
      "cell_type": "code",
      "execution_count": null,
      "id": "f1431844",
      "metadata": {
        "execution": {
          "iopub.execute_input": "2025-09-04T23:47:29.531698Z",
          "iopub.status.busy": "2025-09-04T23:47:29.531048Z",
          "iopub.status.idle": "2025-09-04T23:47:29.546837Z",
          "shell.execute_reply": "2025-09-04T23:47:29.546092Z"
        },
        "papermill": {
          "duration": 0.024331,
          "end_time": "2025-09-04T23:47:29.548179",
          "exception": false,
          "start_time": "2025-09-04T23:47:29.523848",
          "status": "completed"
        },
        "tags": [],
        "id": "f1431844"
      },
      "outputs": [],
      "source": [
        "train_df['label'] = train_df['label'].map(label_map)\n",
        "test_df['label'] = test_df['label'].map(label_map)"
      ]
    },
    {
      "cell_type": "code",
      "execution_count": null,
      "id": "05967a86",
      "metadata": {
        "execution": {
          "iopub.execute_input": "2025-09-04T23:47:29.563516Z",
          "iopub.status.busy": "2025-09-04T23:47:29.562920Z",
          "iopub.status.idle": "2025-09-04T23:47:29.583445Z",
          "shell.execute_reply": "2025-09-04T23:47:29.582322Z"
        },
        "papermill": {
          "duration": 0.029777,
          "end_time": "2025-09-04T23:47:29.585084",
          "exception": false,
          "start_time": "2025-09-04T23:47:29.555307",
          "status": "completed"
        },
        "tags": [],
        "id": "05967a86"
      },
      "outputs": [],
      "source": [
        "train_df.head()"
      ]
    },
    {
      "cell_type": "code",
      "execution_count": null,
      "id": "333c4dcf",
      "metadata": {
        "execution": {
          "iopub.execute_input": "2025-09-04T23:47:29.601257Z",
          "iopub.status.busy": "2025-09-04T23:47:29.600613Z",
          "iopub.status.idle": "2025-09-04T23:47:29.609205Z",
          "shell.execute_reply": "2025-09-04T23:47:29.608184Z"
        },
        "papermill": {
          "duration": 0.017246,
          "end_time": "2025-09-04T23:47:29.610439",
          "exception": false,
          "start_time": "2025-09-04T23:47:29.593193",
          "status": "completed"
        },
        "tags": [],
        "id": "333c4dcf"
      },
      "outputs": [],
      "source": [
        "rows = test_df[test_df[\"file_path\"].str.contains(\"Te-glTr_0007\")]\n",
        "print(rows)\n"
      ]
    },
    {
      "cell_type": "code",
      "execution_count": null,
      "id": "9b6159f6",
      "metadata": {
        "execution": {
          "iopub.execute_input": "2025-09-04T23:47:29.625684Z",
          "iopub.status.busy": "2025-09-04T23:47:29.625449Z",
          "iopub.status.idle": "2025-09-04T23:47:29.630793Z",
          "shell.execute_reply": "2025-09-04T23:47:29.630211Z"
        },
        "papermill": {
          "duration": 0.013927,
          "end_time": "2025-09-04T23:47:29.631953",
          "exception": false,
          "start_time": "2025-09-04T23:47:29.618026",
          "status": "completed"
        },
        "tags": [],
        "id": "9b6159f6"
      },
      "outputs": [],
      "source": [
        "test_df.iloc[784]"
      ]
    },
    {
      "cell_type": "code",
      "execution_count": null,
      "id": "e127d4d2",
      "metadata": {
        "execution": {
          "iopub.execute_input": "2025-09-04T23:47:29.647749Z",
          "iopub.status.busy": "2025-09-04T23:47:29.647515Z",
          "iopub.status.idle": "2025-09-04T23:47:29.651071Z",
          "shell.execute_reply": "2025-09-04T23:47:29.650547Z"
        },
        "papermill": {
          "duration": 0.012419,
          "end_time": "2025-09-04T23:47:29.652090",
          "exception": false,
          "start_time": "2025-09-04T23:47:29.639671",
          "status": "completed"
        },
        "tags": [],
        "id": "e127d4d2"
      },
      "outputs": [],
      "source": [
        "test_df = test_df.reset_index(drop=True)"
      ]
    },
    {
      "cell_type": "markdown",
      "id": "a2b1622a",
      "metadata": {
        "papermill": {
          "duration": 0.006716,
          "end_time": "2025-09-04T23:47:29.712492",
          "exception": false,
          "start_time": "2025-09-04T23:47:29.705776",
          "status": "completed"
        },
        "tags": [],
        "id": "a2b1622a"
      },
      "source": [
        "## DataLoaders  "
      ]
    },
    {
      "cell_type": "code",
      "execution_count": null,
      "id": "dc5223a1",
      "metadata": {
        "execution": {
          "iopub.execute_input": "2025-09-04T23:47:29.726822Z",
          "iopub.status.busy": "2025-09-04T23:47:29.726545Z",
          "iopub.status.idle": "2025-09-04T23:47:29.731214Z",
          "shell.execute_reply": "2025-09-04T23:47:29.730639Z"
        },
        "papermill": {
          "duration": 0.013065,
          "end_time": "2025-09-04T23:47:29.732194",
          "exception": false,
          "start_time": "2025-09-04T23:47:29.719129",
          "status": "completed"
        },
        "tags": [],
        "id": "dc5223a1"
      },
      "outputs": [],
      "source": [
        "class CustomDataset(Dataset):\n",
        "\n",
        "    def __init__(self, dataframe, transform):\n",
        "        self.dataframe = dataframe\n",
        "        self.transform = transform\n",
        "\n",
        "    def __len__(self):\n",
        "        return len(self.dataframe)\n",
        "\n",
        "    def __getitem__(self, idx):\n",
        "        img_path = self.dataframe.iloc[idx,0]\n",
        "        label = self.dataframe.iloc[idx, 1]\n",
        "        img = Image.open(img_path).convert(\"RGB\") # convert to PIL image\n",
        "        if self.transform:\n",
        "            img = self.transform(img)\n",
        "\n",
        "        return img, label"
      ]
    },
    {
      "cell_type": "code",
      "execution_count": null,
      "id": "56cd0716",
      "metadata": {
        "execution": {
          "iopub.execute_input": "2025-09-04T23:47:29.746677Z",
          "iopub.status.busy": "2025-09-04T23:47:29.746447Z",
          "iopub.status.idle": "2025-09-04T23:47:29.749883Z",
          "shell.execute_reply": "2025-09-04T23:47:29.749341Z"
        },
        "papermill": {
          "duration": 0.011843,
          "end_time": "2025-09-04T23:47:29.750826",
          "exception": false,
          "start_time": "2025-09-04T23:47:29.738983",
          "status": "completed"
        },
        "tags": [],
        "id": "56cd0716"
      },
      "outputs": [],
      "source": [
        "train_dataset = CustomDataset(train_df, transform=custom_transform)\n",
        "\n",
        "test_dataset = CustomDataset(test_df, transform=custom_transform)"
      ]
    },
    {
      "cell_type": "code",
      "execution_count": null,
      "id": "31198cb2",
      "metadata": {
        "execution": {
          "iopub.execute_input": "2025-09-04T23:47:29.765169Z",
          "iopub.status.busy": "2025-09-04T23:47:29.764957Z",
          "iopub.status.idle": "2025-09-04T23:47:29.768620Z",
          "shell.execute_reply": "2025-09-04T23:47:29.768060Z"
        },
        "papermill": {
          "duration": 0.012205,
          "end_time": "2025-09-04T23:47:29.769697",
          "exception": false,
          "start_time": "2025-09-04T23:47:29.757492",
          "status": "completed"
        },
        "tags": [],
        "id": "31198cb2"
      },
      "outputs": [],
      "source": [
        "train_loader = DataLoader(train_dataset, batch_size=batch_size, shuffle=True, pin_memory=True)\n",
        "test_loader = DataLoader(test_dataset, batch_size=batch_size, shuffle=False, pin_memory=True)"
      ]
    },
    {
      "cell_type": "markdown",
      "id": "4efb18db",
      "metadata": {
        "execution": {
          "iopub.execute_input": "2025-09-04T21:53:25.767469Z",
          "iopub.status.busy": "2025-09-04T21:53:25.767161Z",
          "iopub.status.idle": "2025-09-04T21:53:25.770362Z",
          "shell.execute_reply": "2025-09-04T21:53:25.769711Z",
          "shell.execute_reply.started": "2025-09-04T21:53:25.767446Z"
        },
        "papermill": {
          "duration": 0.006569,
          "end_time": "2025-09-04T23:47:29.782815",
          "exception": false,
          "start_time": "2025-09-04T23:47:29.776246",
          "status": "completed"
        },
        "tags": [],
        "id": "4efb18db"
      },
      "source": [
        "## Batch Visualization"
      ]
    },
    {
      "cell_type": "code",
      "execution_count": null,
      "id": "854934f9",
      "metadata": {
        "execution": {
          "iopub.execute_input": "2025-09-04T23:47:29.797338Z",
          "iopub.status.busy": "2025-09-04T23:47:29.797144Z",
          "iopub.status.idle": "2025-09-04T23:47:31.558131Z",
          "shell.execute_reply": "2025-09-04T23:47:31.557385Z"
        },
        "papermill": {
          "duration": 1.781279,
          "end_time": "2025-09-04T23:47:31.570989",
          "exception": false,
          "start_time": "2025-09-04T23:47:29.789710",
          "status": "completed"
        },
        "tags": [],
        "id": "854934f9"
      },
      "outputs": [],
      "source": [
        "def imshow(input_images, labels):\n",
        "    idx_to_class = {\n",
        "        0: \"No Tumor\",\n",
        "        1: \"Glioma\",\n",
        "        2: \"Meningioma\",\n",
        "        3: \"Pituitary\"\n",
        "    }\n",
        "\n",
        "    input_images = input_images.numpy().transpose((0, 2, 3, 1))\n",
        "    mean = np.array([0.485, 0.456, 0.406])\n",
        "    std = np.array([0.229, 0.224, 0.225])\n",
        "    input_images = std * input_images + mean\n",
        "    input_images = np.clip(input_images, 0, 1)\n",
        "\n",
        "    num_images = min(16, len(labels))  # take up to 16\n",
        "    fig, axes = plt.subplots(4, 4, figsize=(10, 10))\n",
        "    axes = axes.flatten()\n",
        "\n",
        "    for i in range(num_images):\n",
        "        axes[i].imshow(input_images[i])\n",
        "        axes[i].axis('off')\n",
        "        axes[i].set_title(idx_to_class[int(labels[i])], fontsize=10)\n",
        "\n",
        "    for j in range(num_images, 16):\n",
        "        axes[j].axis('off')\n",
        "\n",
        "    plt.tight_layout()\n",
        "    plt.show()\n",
        "\n",
        "\n",
        "\n",
        "train_iter = iter(train_loader)\n",
        "images, labels = next(train_iter)\n",
        "\n",
        "imshow(images, labels)"
      ]
    },
    {
      "cell_type": "markdown",
      "id": "6dc3279a",
      "metadata": {
        "papermill": {
          "duration": 0.016247,
          "end_time": "2025-09-04T23:47:31.603567",
          "exception": false,
          "start_time": "2025-09-04T23:47:31.587320",
          "status": "completed"
        },
        "tags": [],
        "id": "6dc3279a"
      },
      "source": [
        "## Class Distribution Visualization"
      ]
    },
    {
      "cell_type": "code",
      "execution_count": null,
      "id": "70ea2cd9",
      "metadata": {
        "execution": {
          "iopub.execute_input": "2025-09-04T23:47:31.637968Z",
          "iopub.status.busy": "2025-09-04T23:47:31.637700Z",
          "iopub.status.idle": "2025-09-04T23:47:31.907605Z",
          "shell.execute_reply": "2025-09-04T23:47:31.906872Z"
        },
        "papermill": {
          "duration": 0.288596,
          "end_time": "2025-09-04T23:47:31.908877",
          "exception": false,
          "start_time": "2025-09-04T23:47:31.620281",
          "status": "completed"
        },
        "tags": [],
        "id": "70ea2cd9"
      },
      "outputs": [],
      "source": [
        "idx_to_class = {\n",
        "    0: \"No Tumor\",\n",
        "    1: \"Glioma\",\n",
        "    2: \"Meningioma\",\n",
        "    3: \"Pituitary\"\n",
        "}\n",
        "\n",
        "train_df['class_name'] = train_df['label'].map(idx_to_class)\n",
        "test_df['class_name'] = test_df['label'].map(idx_to_class)\n",
        "\n",
        "fig, axes = plt.subplots(1, 2, figsize=(12, 5), sharey=True)\n",
        "\n",
        "#train\n",
        "train_counts = train_df['class_name'].value_counts().sort_index()\n",
        "axes[0].bar(train_counts.index, train_counts.values, color=\"skyblue\")\n",
        "axes[0].set_title(\"Train Class Distribution\")\n",
        "axes[0].set_ylabel(\"Number of Images\")\n",
        "axes[0].set_xticklabels(train_counts.index, rotation=45)\n",
        "\n",
        "#test\n",
        "test_counts = test_df['class_name'].value_counts().sort_index()\n",
        "axes[1].bar(test_counts.index, test_counts.values, color=\"lightgreen\")\n",
        "axes[1].set_title(\"Test Class Distribution\")\n",
        "axes[1].set_xticklabels(test_counts.index, rotation=45)\n",
        "\n",
        "plt.tight_layout()\n",
        "plt.show()\n",
        ""
      ]
    },
    {
      "cell_type": "markdown",
      "id": "ffab7d9c",
      "metadata": {
        "papermill": {
          "duration": 0.01745,
          "end_time": "2025-09-04T23:47:31.944934",
          "exception": false,
          "start_time": "2025-09-04T23:47:31.927484",
          "status": "completed"
        },
        "tags": [],
        "id": "ffab7d9c"
      },
      "source": [
        "# 2. Model Architecture"
      ]
    },
    {
      "cell_type": "code",
      "execution_count": null,
      "id": "8fa1027a",
      "metadata": {
        "execution": {
          "iopub.execute_input": "2025-09-04T23:47:31.981622Z",
          "iopub.status.busy": "2025-09-04T23:47:31.981053Z",
          "iopub.status.idle": "2025-09-04T23:47:31.986351Z",
          "shell.execute_reply": "2025-09-04T23:47:31.985804Z"
        },
        "papermill": {
          "duration": 0.024662,
          "end_time": "2025-09-04T23:47:31.987384",
          "exception": false,
          "start_time": "2025-09-04T23:47:31.962722",
          "status": "completed"
        },
        "tags": [],
        "id": "8fa1027a"
      },
      "outputs": [],
      "source": [
        "class MyModel(nn.Module):\n",
        "    def __init__(self, num_classes=4):\n",
        "        super(MyModel, self).__init__()\n",
        "\n",
        "        self.model = nn.Sequential(\n",
        "\n",
        "            nn.Conv2d(3, 16, kernel_size=3, padding=1),\n",
        "            nn.ReLU(inplace=True),\n",
        "            nn.MaxPool2d(kernel_size=2, stride=2),\n",
        "\n",
        "            nn.Conv2d(16, 32, kernel_size=3, padding=1),\n",
        "            nn.ReLU(inplace=True),\n",
        "            nn.MaxPool2d(kernel_size=2, stride=2),\n",
        "\n",
        "            nn.Flatten(),\n",
        "\n",
        "            # Classifier\n",
        "            nn.Linear(32 * 56 * 56, 128),\n",
        "            nn.ReLU(inplace=True),\n",
        "            nn.Linear(128, num_classes)\n",
        "        )\n",
        "\n",
        "    def forward(self, x):\n",
        "        return self.model(x)"
      ]
    },
    {
      "cell_type": "code",
      "execution_count": null,
      "id": "878dbee9",
      "metadata": {
        "execution": {
          "iopub.execute_input": "2025-09-04T23:47:32.023606Z",
          "iopub.status.busy": "2025-09-04T23:47:32.023342Z",
          "iopub.status.idle": "2025-09-04T23:47:32.177206Z",
          "shell.execute_reply": "2025-09-04T23:47:32.176629Z"
        },
        "papermill": {
          "duration": 0.173285,
          "end_time": "2025-09-04T23:47:32.178535",
          "exception": false,
          "start_time": "2025-09-04T23:47:32.005250",
          "status": "completed"
        },
        "tags": [],
        "id": "878dbee9"
      },
      "outputs": [],
      "source": [
        "model = MyModel(num_classes=4)\n",
        "model = model.to(device)"
      ]
    },
    {
      "cell_type": "code",
      "execution_count": null,
      "id": "435dbdfc",
      "metadata": {
        "execution": {
          "iopub.execute_input": "2025-09-04T23:47:32.216150Z",
          "iopub.status.busy": "2025-09-04T23:47:32.215916Z",
          "iopub.status.idle": "2025-09-04T23:47:32.220295Z",
          "shell.execute_reply": "2025-09-04T23:47:32.219712Z"
        },
        "papermill": {
          "duration": 0.024005,
          "end_time": "2025-09-04T23:47:32.221300",
          "exception": false,
          "start_time": "2025-09-04T23:47:32.197295",
          "status": "completed"
        },
        "tags": [],
        "id": "435dbdfc"
      },
      "outputs": [],
      "source": [
        "model.model[3]"
      ]
    },
    {
      "cell_type": "markdown",
      "id": "82e04ff2",
      "metadata": {
        "execution": {
          "iopub.execute_input": "2025-09-04T21:55:33.937227Z",
          "iopub.status.busy": "2025-09-04T21:55:33.936938Z",
          "iopub.status.idle": "2025-09-04T21:55:33.940319Z",
          "shell.execute_reply": "2025-09-04T21:55:33.939637Z",
          "shell.execute_reply.started": "2025-09-04T21:55:33.937205Z"
        },
        "papermill": {
          "duration": 0.018249,
          "end_time": "2025-09-04T23:47:32.257262",
          "exception": false,
          "start_time": "2025-09-04T23:47:32.239013",
          "status": "completed"
        },
        "tags": [],
        "id": "82e04ff2"
      },
      "source": [
        "# 3. Training Setup"
      ]
    },
    {
      "cell_type": "code",
      "execution_count": null,
      "id": "08022170",
      "metadata": {
        "execution": {
          "iopub.execute_input": "2025-09-04T23:47:32.294395Z",
          "iopub.status.busy": "2025-09-04T23:47:32.294106Z",
          "iopub.status.idle": "2025-09-04T23:47:32.297521Z",
          "shell.execute_reply": "2025-09-04T23:47:32.296974Z"
        },
        "papermill": {
          "duration": 0.023448,
          "end_time": "2025-09-04T23:47:32.298626",
          "exception": false,
          "start_time": "2025-09-04T23:47:32.275178",
          "status": "completed"
        },
        "tags": [],
        "id": "08022170"
      },
      "outputs": [],
      "source": [
        "learning_rate = 0.0001\n",
        "epoch = 10"
      ]
    },
    {
      "cell_type": "code",
      "execution_count": null,
      "id": "56fae953",
      "metadata": {
        "execution": {
          "iopub.execute_input": "2025-09-04T23:47:32.336046Z",
          "iopub.status.busy": "2025-09-04T23:47:32.335782Z",
          "iopub.status.idle": "2025-09-04T23:47:32.339862Z",
          "shell.execute_reply": "2025-09-04T23:47:32.339286Z"
        },
        "papermill": {
          "duration": 0.024427,
          "end_time": "2025-09-04T23:47:32.340972",
          "exception": false,
          "start_time": "2025-09-04T23:47:32.316545",
          "status": "completed"
        },
        "tags": [],
        "id": "56fae953"
      },
      "outputs": [],
      "source": [
        "criterion = nn.CrossEntropyLoss()\n",
        "optimizer = optim.Adam(model.parameters(), lr=learning_rate)"
      ]
    },
    {
      "cell_type": "markdown",
      "id": "26b93a79",
      "metadata": {
        "papermill": {
          "duration": 0.018276,
          "end_time": "2025-09-04T23:47:32.377270",
          "exception": false,
          "start_time": "2025-09-04T23:47:32.358994",
          "status": "completed"
        },
        "tags": [],
        "id": "26b93a79"
      },
      "source": [
        "# 4. Training and Plotting"
      ]
    },
    {
      "cell_type": "code",
      "execution_count": null,
      "id": "98c40028",
      "metadata": {
        "execution": {
          "iopub.execute_input": "2025-09-04T23:47:32.414151Z",
          "iopub.status.busy": "2025-09-04T23:47:32.413869Z",
          "iopub.status.idle": "2025-09-04T23:47:32.421928Z",
          "shell.execute_reply": "2025-09-04T23:47:32.421366Z"
        },
        "papermill": {
          "duration": 0.0279,
          "end_time": "2025-09-04T23:47:32.422982",
          "exception": false,
          "start_time": "2025-09-04T23:47:32.395082",
          "status": "completed"
        },
        "tags": [],
        "id": "98c40028"
      },
      "outputs": [],
      "source": [
        "def train_model(model, train_loader, val_loader, criterion, optimizer, epochs=10, name=\"model\"):\n",
        "    model.to(device)\n",
        "\n",
        "    train_losses = []\n",
        "    val_losses = []\n",
        "    train_accs = []\n",
        "    val_accs = []\n",
        "\n",
        "    for epoch in range(epochs):\n",
        "\n",
        "        model.train()\n",
        "\n",
        "        total_loss, correct, total = 0, 0, 0\n",
        "\n",
        "        for images, labels in train_loader:\n",
        "            # move data to gpu\n",
        "            images, labels = images.to(device), labels.to(device)\n",
        "\n",
        "            optimizer.zero_grad()\n",
        "\n",
        "            #forward pass\n",
        "            outputs = model(images)\n",
        "\n",
        "            # calculate loss\n",
        "            loss = criterion(outputs, labels)\n",
        "\n",
        "            # back pass\n",
        "            loss.backward()\n",
        "\n",
        "            # update grads\n",
        "            optimizer.step()\n",
        "\n",
        "            total_loss += loss.item()\n",
        "            _, predicted = torch.max(outputs, 1)\n",
        "            total += labels.size(0)\n",
        "            correct += (predicted == labels).sum().item()\n",
        "\n",
        "        epoch_train_loss = total_loss / len(train_loader)\n",
        "        epoch_train_acc = 100 * correct / total\n",
        "\n",
        "        # Validation\n",
        "        model.eval()\n",
        "        val_loss, correct_val, total_val = 0, 0, 0\n",
        "        with torch.no_grad():\n",
        "            for images, labels in val_loader:\n",
        "\n",
        "                images, labels = images.to(device), labels.to(device)\n",
        "\n",
        "                 #forward pass\n",
        "                outputs = model(images)\n",
        "\n",
        "                # calculate loss\n",
        "                loss = criterion(outputs, labels)\n",
        "\n",
        "                val_loss += loss.item()\n",
        "                _, predicted = torch.max(outputs, 1)\n",
        "                total_val += labels.size(0)\n",
        "                correct_val += (predicted == labels).sum().item()\n",
        "\n",
        "        epoch_val_loss = val_loss / len(val_loader)\n",
        "        epoch_val_acc = 100 * correct_val / total_val\n",
        "\n",
        "        # save metrics\n",
        "        train_losses.append(epoch_train_loss)\n",
        "        val_losses.append(epoch_val_loss)\n",
        "        train_accs.append(epoch_train_acc)\n",
        "        val_accs.append(epoch_val_acc)\n",
        "\n",
        "        # Logging\n",
        "        print(f\"Epoch [{epoch+1}/{epochs}] \"\n",
        "              f\"Train Loss: {epoch_train_loss:.4f}, Train Acc: {epoch_train_acc:.2f}% | \"\n",
        "              f\"Val Loss: {epoch_val_loss:.4f}, Val Acc: {epoch_val_acc:.2f}%\")\n",
        "\n",
        "    return train_losses, val_losses, train_accs, val_accs\n"
      ]
    },
    {
      "cell_type": "code",
      "execution_count": null,
      "id": "9142e192",
      "metadata": {
        "execution": {
          "iopub.execute_input": "2025-09-04T23:47:32.460331Z",
          "iopub.status.busy": "2025-09-04T23:47:32.460070Z",
          "iopub.status.idle": "2025-09-04T23:47:32.465355Z",
          "shell.execute_reply": "2025-09-04T23:47:32.464815Z"
        },
        "papermill": {
          "duration": 0.025011,
          "end_time": "2025-09-04T23:47:32.466419",
          "exception": false,
          "start_time": "2025-09-04T23:47:32.441408",
          "status": "completed"
        },
        "tags": [],
        "id": "9142e192"
      },
      "outputs": [],
      "source": [
        "def plot_metrics(train_losses, val_losses, train_accs, val_accs):\n",
        "    epochs_range = range(1, len(train_losses)+1)\n",
        "\n",
        "    plt.figure(figsize=(12,5))\n",
        "\n",
        "    #loss\n",
        "    plt.subplot(1,2,1)\n",
        "    plt.plot(epochs_range, train_losses, label=\"Train Loss\")\n",
        "    plt.plot(epochs_range, val_losses, label=\"Val Loss\")\n",
        "    plt.xlabel(\"Epochs\")\n",
        "    plt.ylabel(\"Loss\")\n",
        "    plt.title(\"Training & Validation Loss\")\n",
        "    plt.legend()\n",
        "\n",
        "    #accuracy\n",
        "    plt.subplot(1,2,2)\n",
        "    plt.plot(epochs_range, train_accs, label=\"Train Acc\")\n",
        "    plt.plot(epochs_range, val_accs, label=\"Val Acc\")\n",
        "    plt.xlabel(\"Epochs\")\n",
        "    plt.ylabel(\"Accuracy (%)\")\n",
        "    plt.title(\"Training & Validation Accuracy\")\n",
        "    plt.legend()\n",
        "\n",
        "    plt.tight_layout()\n",
        "    plt.show()"
      ]
    },
    {
      "cell_type": "markdown",
      "id": "8ac5fc05",
      "metadata": {
        "execution": {
          "iopub.execute_input": "2025-09-04T21:56:59.446461Z",
          "iopub.status.busy": "2025-09-04T21:56:59.446151Z",
          "iopub.status.idle": "2025-09-04T21:56:59.449546Z",
          "shell.execute_reply": "2025-09-04T21:56:59.449000Z",
          "shell.execute_reply.started": "2025-09-04T21:56:59.446439Z"
        },
        "papermill": {
          "duration": 0.018162,
          "end_time": "2025-09-04T23:47:32.502236",
          "exception": false,
          "start_time": "2025-09-04T23:47:32.484074",
          "status": "completed"
        },
        "tags": [],
        "id": "8ac5fc05"
      },
      "source": [
        "# 5. Model Training and Visualization"
      ]
    },
    {
      "cell_type": "code",
      "execution_count": null,
      "id": "8401629f",
      "metadata": {
        "execution": {
          "iopub.execute_input": "2025-09-04T23:47:32.538714Z",
          "iopub.status.busy": "2025-09-04T23:47:32.538426Z",
          "iopub.status.idle": "2025-09-04T23:53:35.431337Z",
          "shell.execute_reply": "2025-09-04T23:53:35.430565Z"
        },
        "papermill": {
          "duration": 362.932122,
          "end_time": "2025-09-04T23:53:35.452068",
          "exception": false,
          "start_time": "2025-09-04T23:47:32.519946",
          "status": "completed"
        },
        "tags": [],
        "id": "8401629f"
      },
      "outputs": [],
      "source": [
        "train_losses, val_losses, train_accs, val_accs = train_model(\n",
        "    model=model ,\n",
        "    train_loader=train_loader,\n",
        "    val_loader=test_loader,\n",
        "    criterion=criterion,\n",
        "    optimizer=optimizer,\n",
        "    epochs=10\n",
        ")"
      ]
    },
    {
      "cell_type": "code",
      "execution_count": null,
      "id": "41ae3fcc",
      "metadata": {
        "execution": {
          "iopub.execute_input": "2025-09-04T23:53:35.491267Z",
          "iopub.status.busy": "2025-09-04T23:53:35.490730Z",
          "iopub.status.idle": "2025-09-04T23:53:35.830752Z",
          "shell.execute_reply": "2025-09-04T23:53:35.829869Z"
        },
        "papermill": {
          "duration": 0.361259,
          "end_time": "2025-09-04T23:53:35.832332",
          "exception": false,
          "start_time": "2025-09-04T23:53:35.471073",
          "status": "completed"
        },
        "tags": [],
        "id": "41ae3fcc"
      },
      "outputs": [],
      "source": [
        "plot_metrics(train_losses, val_losses, train_accs, val_accs)"
      ]
    },
    {
      "cell_type": "markdown",
      "id": "4e797df1",
      "metadata": {
        "execution": {
          "iopub.execute_input": "2025-09-04T21:57:21.939533Z",
          "iopub.status.busy": "2025-09-04T21:57:21.938781Z",
          "iopub.status.idle": "2025-09-04T21:57:21.942184Z",
          "shell.execute_reply": "2025-09-04T21:57:21.941587Z",
          "shell.execute_reply.started": "2025-09-04T21:57:21.939508Z"
        },
        "papermill": {
          "duration": 0.019798,
          "end_time": "2025-09-04T23:53:35.872246",
          "exception": false,
          "start_time": "2025-09-04T23:53:35.852448",
          "status": "completed"
        },
        "tags": [],
        "id": "4e797df1"
      },
      "source": [
        "# 6. Classification Report"
      ]
    },
    {
      "cell_type": "code",
      "execution_count": null,
      "id": "b4c406b7",
      "metadata": {
        "execution": {
          "iopub.execute_input": "2025-09-04T23:53:35.913024Z",
          "iopub.status.busy": "2025-09-04T23:53:35.912430Z",
          "iopub.status.idle": "2025-09-04T23:53:35.917847Z",
          "shell.execute_reply": "2025-09-04T23:53:35.917155Z"
        },
        "papermill": {
          "duration": 0.027276,
          "end_time": "2025-09-04T23:53:35.918999",
          "exception": false,
          "start_time": "2025-09-04T23:53:35.891723",
          "status": "completed"
        },
        "tags": [],
        "id": "b4c406b7"
      },
      "outputs": [],
      "source": [
        "from sklearn.metrics import classification_report\n",
        "\n",
        "def evaluate_classification_report(model, data_loader, device, idx_to_class):\n",
        "    model.eval()\n",
        "    all_preds = []\n",
        "    all_labels = []\n",
        "\n",
        "    with torch.no_grad():\n",
        "        for images, labels in data_loader:\n",
        "            images, labels = images.to(device), labels.to(device)\n",
        "            #forward pass\n",
        "            outputs = model(images)\n",
        "            _, predicted = torch.max(outputs, 1)\n",
        "            #move to cpu\n",
        "            all_preds.extend(predicted.cpu().numpy())\n",
        "            all_labels.extend(labels.cpu().numpy())\n",
        "\n",
        "    report = classification_report(\n",
        "        all_labels,\n",
        "        all_preds,\n",
        "        target_names=[idx_to_class[i] for i in range(len(idx_to_class))],\n",
        "        digits=4\n",
        "    )\n",
        "    print(\"Classification Report:\\n\")\n",
        "    print(report)\n"
      ]
    },
    {
      "cell_type": "code",
      "execution_count": null,
      "id": "c2031841",
      "metadata": {
        "execution": {
          "iopub.execute_input": "2025-09-04T23:53:35.959122Z",
          "iopub.status.busy": "2025-09-04T23:53:35.958369Z",
          "iopub.status.idle": "2025-09-04T23:53:41.573622Z",
          "shell.execute_reply": "2025-09-04T23:53:41.572848Z"
        },
        "papermill": {
          "duration": 5.636667,
          "end_time": "2025-09-04T23:53:41.575200",
          "exception": false,
          "start_time": "2025-09-04T23:53:35.938533",
          "status": "completed"
        },
        "tags": [],
        "id": "c2031841"
      },
      "outputs": [],
      "source": [
        "evaluate_classification_report(model, test_loader, device, idx_to_class)"
      ]
    },
    {
      "cell_type": "markdown",
      "id": "f245d784",
      "metadata": {
        "papermill": {
          "duration": 0.019487,
          "end_time": "2025-09-04T23:53:41.615006",
          "exception": false,
          "start_time": "2025-09-04T23:53:41.595519",
          "status": "completed"
        },
        "tags": [],
        "id": "f245d784"
      },
      "source": [
        "# 7. Model Interpretability"
      ]
    },
    {
      "cell_type": "markdown",
      "id": "bb6d3d8c",
      "metadata": {
        "execution": {
          "iopub.execute_input": "2025-09-04T21:58:35.439294Z",
          "iopub.status.busy": "2025-09-04T21:58:35.439011Z",
          "iopub.status.idle": "2025-09-04T21:58:35.442453Z",
          "shell.execute_reply": "2025-09-04T21:58:35.441819Z",
          "shell.execute_reply.started": "2025-09-04T21:58:35.439273Z"
        },
        "papermill": {
          "duration": 0.018685,
          "end_time": "2025-09-04T23:53:41.652755",
          "exception": false,
          "start_time": "2025-09-04T23:53:41.634070",
          "status": "completed"
        },
        "tags": [],
        "id": "bb6d3d8c"
      },
      "source": [
        "## 1. Grad-CAM (Gradient-weighted Class Activation Mapping)"
      ]
    },
    {
      "cell_type": "code",
      "execution_count": null,
      "id": "c9395128",
      "metadata": {
        "collapsed": true,
        "execution": {
          "iopub.execute_input": "2025-09-04T23:53:41.691539Z",
          "iopub.status.busy": "2025-09-04T23:53:41.691268Z",
          "iopub.status.idle": "2025-09-04T23:55:02.368037Z",
          "shell.execute_reply": "2025-09-04T23:55:02.367017Z"
        },
        "jupyter": {
          "outputs_hidden": true
        },
        "papermill": {
          "duration": 80.698163,
          "end_time": "2025-09-04T23:55:02.369720",
          "exception": false,
          "start_time": "2025-09-04T23:53:41.671557",
          "status": "completed"
        },
        "tags": [],
        "id": "c9395128"
      },
      "outputs": [],
      "source": [
        "!pip install grad-cam"
      ]
    },
    {
      "cell_type": "code",
      "execution_count": null,
      "id": "9bc8e910",
      "metadata": {
        "execution": {
          "iopub.execute_input": "2025-09-04T23:55:02.455157Z",
          "iopub.status.busy": "2025-09-04T23:55:02.454865Z",
          "iopub.status.idle": "2025-09-04T23:55:03.079694Z",
          "shell.execute_reply": "2025-09-04T23:55:03.079015Z"
        },
        "papermill": {
          "duration": 0.673713,
          "end_time": "2025-09-04T23:55:03.085781",
          "exception": false,
          "start_time": "2025-09-04T23:55:02.412068",
          "status": "completed"
        },
        "tags": [],
        "id": "9bc8e910"
      },
      "outputs": [],
      "source": [
        "from pytorch_grad_cam import GradCAM\n",
        "from pytorch_grad_cam.utils.model_targets import ClassifierOutputTarget\n",
        "from pytorch_grad_cam.utils.image import show_cam_on_image\n",
        "import cv2\n",
        "\n",
        "def load_and_preprocess_image(image_path, transform):\n",
        "\n",
        "    image = Image.open(image_path).convert(\"RGB\")\n",
        "    image_tensor = transform(image)\n",
        "    # (C, H, W) -> (1, C, H, W)\n",
        "    return image_tensor.unsqueeze(0)\n",
        "\n",
        "def plot_grad_cam_for_mymodel(model, target_layer, image_path, transform, true_label=None):\n",
        "\n",
        "    # Initialize GradCAM\n",
        "    cam = GradCAM(model=model, target_layers=[target_layer])\n",
        "\n",
        "    # Load and preprocess the image\n",
        "    img_tensor = load_and_preprocess_image(image_path, transform).to(device)\n",
        "\n",
        "    # forward pass\n",
        "    with torch.no_grad():\n",
        "        output = model(img_tensor)\n",
        "        pred_idx = output.argmax(dim=1).item()\n",
        "\n",
        "\n",
        "    targets = [ClassifierOutputTarget(pred_idx)]\n",
        "\n",
        "    # CAM heatmap\n",
        "    grayscale_cam = cam(input_tensor=img_tensor, targets=targets)\n",
        "    grayscale_cam = grayscale_cam[0, :] # Get the heatmap for the first (and only) image\n",
        "\n",
        "    # original image for display\n",
        "    img_to_show = img_tensor.squeeze().cpu().numpy().transpose((1, 2, 0))\n",
        "    mean, std = np.array([0.485, 0.456, 0.406]), np.array([0.229, 0.224, 0.225])\n",
        "    img_to_show = std * img_to_show + mean\n",
        "    img_to_show = np.clip(img_to_show, 0, 1)\n",
        "\n",
        "    #Overlay the heatmap on the image\n",
        "    visualization = show_cam_on_image(img_to_show, grayscale_cam, use_rgb=True, colormap=cv2.COLORMAP_JET)\n",
        "\n",
        "\n",
        "    plt.figure(figsize=(10, 5))\n",
        "\n",
        "    plt.subplot(1, 2, 1)\n",
        "    plt.imshow(img_to_show)\n",
        "    title_text = f\"Pred: {idx_to_class[pred_idx]}\"\n",
        "    if true_label is not None:\n",
        "        title_text = f\"True: {idx_to_class[true_label]}\\n\" + title_text\n",
        "    plt.title(title_text)\n",
        "    plt.axis('off')\n",
        "\n",
        "    plt.subplot(1, 2, 2)\n",
        "    plt.imshow(visualization)\n",
        "    plt.title(\"Grad-CAM Overlay\")\n",
        "    plt.axis('off')\n",
        "\n",
        "    plt.tight_layout()\n",
        "    plt.show()\n",
        "\n",
        "\n",
        "sample_image_info = test_df.iloc[70] # test image\n",
        "sample_image_path = sample_image_info['file_path']\n",
        "sample_true_label = sample_image_info['label']\n",
        "\n",
        "print(f\"Visualizing Grad-CAM for: {sample_image_path}\")\n",
        "print(f\"True Label: {idx_to_class[sample_true_label]}\")\n",
        "\n",
        "\n",
        "target_layer_mymodel = model.model[3] #Conv2d(16, 32, kernel_size=(3, 3), stride=(1, 1), padding=(1, 1))\n",
        "\n",
        "plot_grad_cam_for_mymodel(\n",
        "    model=model,\n",
        "    target_layer=target_layer_mymodel,\n",
        "    image_path=sample_image_path,\n",
        "    transform=custom_transform,\n",
        "    true_label=sample_true_label\n",
        ")"
      ]
    },
    {
      "cell_type": "code",
      "execution_count": null,
      "id": "560b36fe",
      "metadata": {
        "execution": {
          "iopub.execute_input": "2025-09-04T23:55:03.180201Z",
          "iopub.status.busy": "2025-09-04T23:55:03.179860Z",
          "iopub.status.idle": "2025-09-04T23:55:03.619336Z",
          "shell.execute_reply": "2025-09-04T23:55:03.618613Z"
        },
        "papermill": {
          "duration": 0.491319,
          "end_time": "2025-09-04T23:55:03.624816",
          "exception": false,
          "start_time": "2025-09-04T23:55:03.133497",
          "status": "completed"
        },
        "tags": [],
        "id": "560b36fe"
      },
      "outputs": [],
      "source": [
        "from pytorch_grad_cam import GradCAM\n",
        "from pytorch_grad_cam.utils.model_targets import ClassifierOutputTarget\n",
        "from pytorch_grad_cam.utils.image import show_cam_on_image\n",
        "import cv2\n",
        "import matplotlib.pyplot as plt\n",
        "import numpy as np\n",
        "import torch\n",
        "from PIL import Image\n",
        "\n",
        "def load_and_preprocess_image(image_path, transform):\n",
        "\n",
        "    image = Image.open(image_path).convert(\"RGB\")\n",
        "    image_tensor = transform(image)\n",
        "    #(C, H, W) -> (1, C, H, W)\n",
        "    return image_tensor.unsqueeze(0)\n",
        "\n",
        "def plot_grad_cam_for_mymodel(model, target_layer, image_path, transform, true_label=None):\n",
        "\n",
        "    #Initialize GradCAM\n",
        "    cam = GradCAM(model=model, target_layers=[target_layer])\n",
        "\n",
        "    #Load and preprocess the image\n",
        "    img_tensor = load_and_preprocess_image(image_path, transform).to(device)\n",
        "\n",
        "    #forward pass\n",
        "    model.eval()\n",
        "    with torch.no_grad():\n",
        "        output = model(img_tensor)\n",
        "        pred_idx = output.argmax(dim=1).item()\n",
        "\n",
        "    targets = [ClassifierOutputTarget(pred_idx)]\n",
        "\n",
        "    #CAM heatmap\n",
        "    grayscale_cam = cam(input_tensor=img_tensor, targets=targets)\n",
        "    grayscale_cam = grayscale_cam[0, :] # Get the heatmap for the first (and only) image\n",
        "\n",
        "    #original image\n",
        "    img_to_show = img_tensor.squeeze().cpu().numpy().transpose((1, 2, 0))\n",
        "    mean, std = np.array([0.485, 0.456, 0.406]), np.array([0.229, 0.224, 0.225])\n",
        "    img_to_show = std * img_to_show + mean\n",
        "    img_to_show = np.clip(img_to_show, 0, 1)\n",
        "\n",
        "    #heatmap\n",
        "    heatmap_display = cv2.resize(grayscale_cam, (img_to_show.shape[1], img_to_show.shape[0]))\n",
        "    heatmap_colored = cv2.applyColorMap(np.uint8(255 * heatmap_display), cv2.COLORMAP_JET)\n",
        "    heatmap_colored_rgb = cv2.cvtColor(heatmap_colored, cv2.COLOR_BGR2RGB) / 255.0 # Normalize to 0-1\n",
        "\n",
        "    #Overlay the heatmap on the image\n",
        "    visualization = show_cam_on_image(img_to_show, grayscale_cam, use_rgb=True, colormap=cv2.COLORMAP_JET)\n",
        "\n",
        "\n",
        "    plt.figure(figsize=(15, 5))\n",
        "\n",
        "\n",
        "    plt.subplot(1, 3, 1)\n",
        "    plt.imshow(img_to_show)\n",
        "    title_text = f\"Pred: {idx_to_class[pred_idx]}\"\n",
        "    if true_label is not None:\n",
        "        title_text = f\"True: {idx_to_class[true_label]}\\n\" + title_text\n",
        "    plt.title(title_text)\n",
        "    plt.axis('off')\n",
        "\n",
        "\n",
        "    plt.subplot(1, 3, 2)\n",
        "    plt.imshow(heatmap_colored_rgb)\n",
        "    plt.title(\"Grad-CAM Heatmap\")\n",
        "    plt.axis('off')\n",
        "\n",
        "\n",
        "    plt.subplot(1, 3, 3)\n",
        "    plt.imshow(visualization)\n",
        "    plt.title(\"Grad-CAM Overlay\")\n",
        "    plt.axis('off')\n",
        "\n",
        "    plt.tight_layout()\n",
        "    plt.show()\n",
        "\n",
        "\n",
        "sample_image_info = test_df.iloc[303] # test image\n",
        "sample_image_path = sample_image_info['file_path']\n",
        "sample_true_label = sample_image_info['label']\n",
        "\n",
        "print(f\"Visualizing Grad-CAM for: {sample_image_path}\")\n",
        "print(f\"True Label: {idx_to_class[sample_true_label]}\")\n",
        "\n",
        "target_layer_mymodel = model.model[3] #Conv2d(16, 32, kernel_size=(3, 3), stride=(1, 1), padding=(1, 1))\n",
        "\n",
        "plot_grad_cam_for_mymodel(\n",
        "    model=model,\n",
        "    target_layer=target_layer_mymodel,\n",
        "    image_path=sample_image_path,\n",
        "    transform=custom_transform,\n",
        "    true_label=sample_true_label\n",
        ")"
      ]
    },
    {
      "cell_type": "markdown",
      "id": "973da1d9",
      "metadata": {
        "papermill": {
          "duration": 0.051558,
          "end_time": "2025-09-04T23:55:03.728902",
          "exception": false,
          "start_time": "2025-09-04T23:55:03.677344",
          "status": "completed"
        },
        "tags": [],
        "id": "973da1d9"
      },
      "source": [
        "## 2. LIME (Local Interpretable Model-agnostic Explanations)"
      ]
    },
    {
      "cell_type": "code",
      "execution_count": null,
      "id": "d06c563e",
      "metadata": {
        "execution": {
          "iopub.execute_input": "2025-09-04T23:55:03.831223Z",
          "iopub.status.busy": "2025-09-04T23:55:03.830912Z",
          "iopub.status.idle": "2025-09-04T23:55:08.407979Z",
          "shell.execute_reply": "2025-09-04T23:55:08.407207Z"
        },
        "papermill": {
          "duration": 4.631321,
          "end_time": "2025-09-04T23:55:08.410251",
          "exception": false,
          "start_time": "2025-09-04T23:55:03.778930",
          "status": "completed"
        },
        "tags": [],
        "id": "d06c563e"
      },
      "outputs": [],
      "source": [
        "import torch\n",
        "import numpy as np\n",
        "import matplotlib.pyplot as plt\n",
        "from PIL import Image\n",
        "from skimage.segmentation import mark_boundaries\n",
        "import lime\n",
        "from lime import lime_image\n",
        "\n",
        "def predict_for_lime(numpy_images):\n",
        "\n",
        "    # (N, H, W, C) to (N, C, H, W)\n",
        "    images = torch.from_numpy(numpy_images).permute(0, 3, 1, 2).float().to(device)\n",
        "\n",
        "    normalizer = transforms.Normalize(mean=[0.485, 0.456, 0.406], std=[0.229, 0.224, 0.225])\n",
        "    images = normalizer(images)\n",
        "\n",
        "    model.eval()\n",
        "    with torch.no_grad():\n",
        "        outputs = model(images)\n",
        "\n",
        "    probabilities = torch.nn.functional.softmax(outputs, dim=1)\n",
        "\n",
        "    return probabilities.cpu().numpy()\n",
        "\n",
        "\n",
        "def visualize_lime(model, image_path, transform, true_label=None):\n",
        "\n",
        "    original_image = Image.open(image_path).convert(\"RGB\")\n",
        "    original_image_resized = original_image.resize(target_size)\n",
        "    image_np = np.array(original_image_resized) / 255.0\n",
        "\n",
        "\n",
        "    explainer = lime_image.LimeImageExplainer()\n",
        "\n",
        "    explanation = explainer.explain_instance(\n",
        "        image_np,\n",
        "        predict_for_lime,\n",
        "        top_labels=1,\n",
        "        hide_color=0,\n",
        "        num_samples=1000\n",
        "    )\n",
        "\n",
        "\n",
        "    temp, mask = explanation.get_image_and_mask(\n",
        "        explanation.top_labels[0],\n",
        "        positive_only=True,\n",
        "        num_features=5,\n",
        "        hide_rest=False\n",
        "    )\n",
        "\n",
        "\n",
        "    img_tensor = transform(original_image).unsqueeze(0).to(device)\n",
        "    with torch.no_grad():\n",
        "        output = model(img_tensor)\n",
        "        pred_idx = output.argmax(dim=1).item()\n",
        "        pred_class = idx_to_class[pred_idx]\n",
        "\n",
        "\n",
        "    plt.figure(figsize=(10, 5))\n",
        "\n",
        "\n",
        "    plt.subplot(1, 2, 1)\n",
        "    plt.imshow(image_np)\n",
        "    title_text = f\"Pred: {pred_class}\"\n",
        "    if true_label is not None:\n",
        "        title_text = f\"True: {idx_to_class[true_label]}\\n\" + title_text\n",
        "    plt.title(title_text)\n",
        "    plt.axis('off')\n",
        "\n",
        "\n",
        "    plt.subplot(1, 2, 2)\n",
        "    plt.imshow(mark_boundaries(temp, mask))\n",
        "    plt.title(\"LIME Explanation\")\n",
        "    plt.axis('off')\n",
        "\n",
        "    plt.tight_layout()\n",
        "    plt.show()\n",
        "\n",
        "\n",
        "sample_image_info = test_df.iloc[303]\n",
        "sample_image_path = sample_image_info['file_path']\n",
        "sample_true_label = sample_image_info['label']\n",
        "\n",
        "print(f\"Visualizing LIME for: {sample_image_path}\")\n",
        "print(f\"True Label: {idx_to_class[sample_true_label]}\")\n",
        "\n",
        "visualize_lime(\n",
        "    model=model,\n",
        "    image_path=sample_image_path,\n",
        "    transform=custom_transform,\n",
        "    true_label=sample_true_label\n",
        ")"
      ]
    },
    {
      "cell_type": "markdown",
      "id": "eedee591",
      "metadata": {
        "papermill": {
          "duration": 0.050902,
          "end_time": "2025-09-04T23:55:08.515448",
          "exception": false,
          "start_time": "2025-09-04T23:55:08.464546",
          "status": "completed"
        },
        "tags": [],
        "id": "eedee591"
      },
      "source": [
        "# 8. Saving Model"
      ]
    },
    {
      "cell_type": "code",
      "execution_count": null,
      "id": "396d5767",
      "metadata": {
        "execution": {
          "iopub.execute_input": "2025-09-04T23:55:08.620523Z",
          "iopub.status.busy": "2025-09-04T23:55:08.619551Z",
          "iopub.status.idle": "2025-09-04T23:55:08.733795Z",
          "shell.execute_reply": "2025-09-04T23:55:08.732983Z"
        },
        "papermill": {
          "duration": 0.167273,
          "end_time": "2025-09-04T23:55:08.734926",
          "exception": false,
          "start_time": "2025-09-04T23:55:08.567653",
          "status": "completed"
        },
        "tags": [],
        "id": "396d5767"
      },
      "outputs": [],
      "source": [
        "MODEL_SAVE_PATH = \"/kaggle/working/custom_cnn_tumor_model.pth\"\n",
        "\n",
        "torch.save(model.state_dict(), MODEL_SAVE_PATH)\n",
        "\n",
        "print(f\"Model saved to {MODEL_SAVE_PATH}\")"
      ]
    },
    {
      "cell_type": "code",
      "execution_count": null,
      "id": "8368f8dc",
      "metadata": {
        "execution": {
          "iopub.execute_input": "2025-09-04T23:55:08.838500Z",
          "iopub.status.busy": "2025-09-04T23:55:08.838260Z",
          "iopub.status.idle": "2025-09-04T23:55:08.842887Z",
          "shell.execute_reply": "2025-09-04T23:55:08.842307Z"
        },
        "papermill": {
          "duration": 0.058057,
          "end_time": "2025-09-04T23:55:08.844016",
          "exception": false,
          "start_time": "2025-09-04T23:55:08.785959",
          "status": "completed"
        },
        "tags": [],
        "id": "8368f8dc"
      },
      "outputs": [],
      "source": [
        "from IPython.display import FileLink\n",
        "\n",
        "FileLink(MODEL_SAVE_PATH)"
      ]
    },
    {
      "cell_type": "code",
      "execution_count": null,
      "id": "cd61bd49",
      "metadata": {
        "papermill": {
          "duration": 0.050401,
          "end_time": "2025-09-04T23:55:08.944716",
          "exception": false,
          "start_time": "2025-09-04T23:55:08.894315",
          "status": "completed"
        },
        "tags": [],
        "id": "cd61bd49"
      },
      "outputs": [],
      "source": []
    },
    {
      "cell_type": "code",
      "execution_count": null,
      "id": "2815a165",
      "metadata": {
        "execution": {
          "iopub.status.busy": "2025-09-04T20:13:59.054788Z",
          "iopub.status.idle": "2025-09-04T20:13:59.055052Z",
          "shell.execute_reply": "2025-09-04T20:13:59.054956Z",
          "shell.execute_reply.started": "2025-09-04T20:13:59.054943Z"
        },
        "papermill": {
          "duration": 0.049753,
          "end_time": "2025-09-04T23:55:09.044810",
          "exception": false,
          "start_time": "2025-09-04T23:55:08.995057",
          "status": "completed"
        },
        "tags": [],
        "id": "2815a165"
      },
      "outputs": [],
      "source": []
    },
    {
      "cell_type": "code",
      "execution_count": null,
      "id": "7c930cd6",
      "metadata": {
        "papermill": {
          "duration": 0.05138,
          "end_time": "2025-09-04T23:55:09.145535",
          "exception": false,
          "start_time": "2025-09-04T23:55:09.094155",
          "status": "completed"
        },
        "tags": [],
        "id": "7c930cd6"
      },
      "outputs": [],
      "source": []
    },
    {
      "cell_type": "code",
      "execution_count": null,
      "id": "911f71b7",
      "metadata": {
        "papermill": {
          "duration": 0.04997,
          "end_time": "2025-09-04T23:55:09.245196",
          "exception": false,
          "start_time": "2025-09-04T23:55:09.195226",
          "status": "completed"
        },
        "tags": [],
        "id": "911f71b7"
      },
      "outputs": [],
      "source": []
    },
    {
      "cell_type": "code",
      "execution_count": null,
      "id": "a8906995",
      "metadata": {
        "papermill": {
          "duration": 0.049508,
          "end_time": "2025-09-04T23:55:09.344649",
          "exception": false,
          "start_time": "2025-09-04T23:55:09.295141",
          "status": "completed"
        },
        "tags": [],
        "id": "a8906995"
      },
      "outputs": [],
      "source": []
    },
    {
      "cell_type": "code",
      "execution_count": null,
      "id": "f257cae6",
      "metadata": {
        "papermill": {
          "duration": 0.050735,
          "end_time": "2025-09-04T23:55:09.445159",
          "exception": false,
          "start_time": "2025-09-04T23:55:09.394424",
          "status": "completed"
        },
        "tags": [],
        "id": "f257cae6"
      },
      "outputs": [],
      "source": []
    },
    {
      "cell_type": "code",
      "execution_count": null,
      "id": "a08fcf32",
      "metadata": {
        "papermill": {
          "duration": 0.04962,
          "end_time": "2025-09-04T23:55:09.545137",
          "exception": false,
          "start_time": "2025-09-04T23:55:09.495517",
          "status": "completed"
        },
        "tags": [],
        "id": "a08fcf32"
      },
      "outputs": [],
      "source": []
    }
  ],
  "metadata": {
    "kaggle": {
      "accelerator": "gpu",
      "dataSources": [
        {
          "datasetId": 1608934,
          "sourceId": 2645886,
          "sourceType": "datasetVersion"
        }
      ],
      "dockerImageVersionId": 31090,
      "isGpuEnabled": true,
      "isInternetEnabled": true,
      "language": "python",
      "sourceType": "notebook"
    },
    "kernelspec": {
      "display_name": "Python 3",
      "name": "python3"
    },
    "language_info": {
      "codemirror_mode": {
        "name": "ipython",
        "version": 3
      },
      "file_extension": ".py",
      "mimetype": "text/x-python",
      "name": "python",
      "nbconvert_exporter": "python",
      "pygments_lexer": "ipython3",
      "version": "3.11.13"
    },
    "papermill": {
      "default_parameters": {},
      "duration": 496.727361,
      "end_time": "2025-09-04T23:55:11.991624",
      "environment_variables": {},
      "exception": null,
      "input_path": "__notebook__.ipynb",
      "output_path": "__notebook__.ipynb",
      "parameters": {},
      "start_time": "2025-09-04T23:46:55.264263",
      "version": "2.6.0"
    },
    "colab": {
      "provenance": [],
      "gpuType": "T4"
    },
    "accelerator": "GPU"
  },
  "nbformat": 4,
  "nbformat_minor": 5
}